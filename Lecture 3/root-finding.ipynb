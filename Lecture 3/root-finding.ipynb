{
 "cells": [
  {
   "cell_type": "code",
   "execution_count": 16,
   "metadata": {},
   "outputs": [
    {
     "name": "stderr",
     "output_type": "stream",
     "text": [
      "\u001b[32m\u001b[1m  Activating\u001b[22m\u001b[39m project at `~/Documents/pulses/lecture-notebooks/Lecture 3`\n"
     ]
    }
   ],
   "source": [
    "import Pkg; Pkg.activate(@__DIR__); Pkg.instantiate()"
   ]
  },
  {
   "cell_type": "code",
   "execution_count": 17,
   "metadata": {},
   "outputs": [],
   "source": [
    "using LinearAlgebra\n",
    "using ForwardDiff\n",
    "using PyPlot"
   ]
  },
  {
   "cell_type": "code",
   "execution_count": 18,
   "metadata": {},
   "outputs": [
    {
     "data": {
      "text/plain": [
       "pendulum_dynamics (generic function with 1 method)"
      ]
     },
     "metadata": {},
     "output_type": "display_data"
    }
   ],
   "source": [
    "function pendulum_dynamics(x)\n",
    "    l = 1.0\n",
    "    g = 9.81\n",
    "    \n",
    "    θ = x[1]\n",
    "    θ̇ = x[2]\n",
    "    \n",
    "    θ̈ = -(g/l)*sin(θ)\n",
    "    \n",
    "    return [θ̇; θ̈]\n",
    "end"
   ]
  },
  {
   "cell_type": "code",
   "execution_count": 19,
   "metadata": {},
   "outputs": [
    {
     "data": {
      "text/plain": [
       "backward_euler_step_fixed_point (generic function with 1 method)"
      ]
     },
     "metadata": {},
     "output_type": "display_data"
    }
   ],
   "source": [
    "function backward_euler_step_fixed_point(fun, x0, h)\n",
    "    xn = x0\n",
    "    e = [norm(x0 + h.*fun(xn) - xn)]\n",
    "    while e[end] > 1e-8\n",
    "        xn = x0 + h.*fun(xn)\n",
    "        e = [e; norm(x0 + h.*fun(xn) - xn)]\n",
    "    end\n",
    "    \n",
    "    return xn, e\n",
    "end"
   ]
  },
  {
   "cell_type": "code",
   "execution_count": 20,
   "metadata": {},
   "outputs": [
    {
     "data": {
      "text/plain": [
       "backward_euler_step_newton (generic function with 1 method)"
      ]
     },
     "metadata": {},
     "output_type": "display_data"
    }
   ],
   "source": [
    "function backward_euler_step_newton(fun, x0, h)\n",
    "    xn = x0\n",
    "    r = x0 + h.*fun(xn) - xn\n",
    "    e = [norm(r)]\n",
    "    while e[end] > 1e-8\n",
    "        ∂r = ForwardDiff.jacobian(x -> x0 + h.*fun(x) - x, xn)\n",
    "        xn = xn - ∂r\\r\n",
    "        r = x0 + h.*fun(xn) - xn\n",
    "        e = [e; norm(r)]\n",
    "    end\n",
    "    \n",
    "    return xn, e\n",
    "end"
   ]
  },
  {
   "cell_type": "code",
   "execution_count": 21,
   "metadata": {},
   "outputs": [
    {
     "data": {
      "text/plain": [
       "backward_euler_fixed_point (generic function with 1 method)"
      ]
     },
     "metadata": {},
     "output_type": "display_data"
    }
   ],
   "source": [
    "function backward_euler_fixed_point(fun, x0, Tf, h)\n",
    "    t = Array(range(0,Tf,step=h))\n",
    "    \n",
    "    x_hist = zeros(length(x0),length(t))\n",
    "    x_hist[:,1] .= x0\n",
    "    \n",
    "    for k = 1:(length(t)-1)\n",
    "        x_hist[:,k+1], e = backward_euler_step_fixed_point(fun, x_hist[:,k], h)\n",
    "    end\n",
    "    \n",
    "    return x_hist, t\n",
    "end"
   ]
  },
  {
   "cell_type": "code",
   "execution_count": 22,
   "metadata": {},
   "outputs": [
    {
     "data": {
      "text/plain": [
       "backward_euler_newton (generic function with 1 method)"
      ]
     },
     "metadata": {},
     "output_type": "display_data"
    }
   ],
   "source": [
    "function backward_euler_newton(fun, x0, Tf, h)\n",
    "    t = Array(range(0,Tf,step=h))\n",
    "    \n",
    "    x_hist = zeros(length(x0),length(t))\n",
    "    x_hist[:,1] .= x0\n",
    "    \n",
    "    for k = 1:(length(t)-1)\n",
    "        x_hist[:,k+1], e = backward_euler_step_newton(fun, x_hist[:,k], h)\n",
    "    end\n",
    "    \n",
    "    return x_hist, t\n",
    "end"
   ]
  },
  {
   "cell_type": "code",
   "execution_count": 23,
   "metadata": {},
   "outputs": [
    {
     "data": {
      "text/plain": [
       "1-element Vector{PyCall.PyObject}:\n",
       " PyObject <matplotlib.lines.Line2D object at 0x16939a4b0>"
      ]
     },
     "metadata": {},
     "output_type": "display_data"
    }
   ],
   "source": [
    "x0 = [.1; 0]\n",
    "x_hist1, t_hist1 = backward_euler_fixed_point(pendulum_dynamics, x0, 10, 0.01)\n",
    "x_hist2, t_hist2 = backward_euler_newton(pendulum_dynamics, x0, 10, 0.01)\n",
    "plot(t_hist1, x_hist1[1,:])\n",
    "plot(t_hist2, x_hist2[1,:])"
   ]
  },
  {
   "cell_type": "code",
   "execution_count": 24,
   "metadata": {},
   "outputs": [
    {
     "data": {
      "text/plain": [
       "7.3007510554383426e-6"
      ]
     },
     "metadata": {},
     "output_type": "display_data"
    }
   ],
   "source": [
    "max(abs.(x_hist1-x_hist2)...)"
   ]
  },
  {
   "cell_type": "code",
   "execution_count": 25,
   "metadata": {},
   "outputs": [
    {
     "data": {
      "text/plain": [
       "14-element Vector{Float64}:\n",
       " 0.09793658173053843\n",
       " 0.009793658173053846\n",
       " 0.009564124766684667\n",
       " 0.0009564124766684723\n",
       " 0.0009343853483241293\n",
       " 9.343853483241571e-5\n",
       " 9.128296581455142e-5\n",
       " 9.128296581450979e-6\n",
       " 8.917746787032166e-6\n",
       " 8.917746786990532e-7\n",
       " 8.712050176828967e-7\n",
       " 8.712050177106523e-8\n",
       " 8.511098474606182e-8\n",
       " 8.511098478769519e-9"
      ]
     },
     "metadata": {},
     "output_type": "display_data"
    }
   ],
   "source": [
    "xn, e1 = backward_euler_step_fixed_point(pendulum_dynamics, x0, 0.1)\n",
    "e1"
   ]
  },
  {
   "cell_type": "code",
   "execution_count": 26,
   "metadata": {},
   "outputs": [
    {
     "data": {
      "text/plain": [
       "3-element Vector{Float64}:\n",
       " 0.09793658173053843\n",
       " 3.7830087232931797e-6\n",
       " 5.2874553670659e-15"
      ]
     },
     "metadata": {},
     "output_type": "display_data"
    }
   ],
   "source": [
    "xn, e2 = backward_euler_step_newton(pendulum_dynamics, x0, 0.1)\n",
    "e2"
   ]
  },
  {
   "cell_type": "code",
   "execution_count": 27,
   "metadata": {},
   "outputs": [
    {
     "data": {
      "text/plain": [
       "1-element Vector{PyCall.PyObject}:\n",
       " PyObject <matplotlib.lines.Line2D object at 0x16939acf0>"
      ]
     },
     "metadata": {},
     "output_type": "display_data"
    }
   ],
   "source": [
    "semilogy(e1)\n",
    "semilogy(e2)"
   ]
  },
  {
   "cell_type": "code",
   "execution_count": 28,
   "metadata": {},
   "outputs": [],
   "source": []
  },
  {
   "cell_type": "code",
   "execution_count": 29,
   "metadata": {},
   "outputs": [],
   "source": []
  }
 ],
 "metadata": {
  "kernelspec": {
   "display_name": "Julia 1.11.5",
   "language": "julia",
   "name": "julia-1.11"
  },
  "language_info": {
   "file_extension": ".jl",
   "mimetype": "application/julia",
   "name": "julia",
   "version": "1.11.5"
  }
 },
 "nbformat": 4,
 "nbformat_minor": 4
}
